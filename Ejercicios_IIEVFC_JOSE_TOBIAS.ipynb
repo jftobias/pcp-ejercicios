{
 "cells": [
  {
   "cell_type": "markdown",
   "metadata": {
    "_uuid": "1752ce061957fd1ce93d2e4db9494b7b29da7935",
    "id": "4skdndoa-7GI"
   },
   "source": [
    "<center>\n",
    "\n",
    "\n",
    "<img src=\"https://habrastorage.org/webt/jq/gc/r5/jqgcr5azmatev6zvgufn8xftehy.png\">\n",
    "    \n",
    "#  **II Escuela de Verano en Física Computacional**\n",
    "\n",
    "Este material está sujeto a los términos y condiciones de la licencia [Creative Commons CC BY-NC-SA 4.0](https://creativecommons.org/licenses/by-nc-sa/4.0/). Se permite el uso gratuito para cualquier propósito no comercial.\n",
    "\n",
    "*También puede consultar la última versión de este notebook en nuestro [repositorio](https://github.com/PCPUNMSM) y los videos de clase [en nuestro canal de Youtube](https://www.youtube.com/channel/UCze8vzQLcplutz0nWDNjFCA).*\n",
    "    "
   ]
  },
  {
   "cell_type": "markdown",
   "metadata": {
    "_uuid": "9b690f2c8129ad9445c544337375b93246c26668",
    "id": "Vm9O4SUd-7GJ"
   },
   "source": [
    "# <center> Lista de Ejercicios\n",
    "\n"
   ]
  },
  {
   "cell_type": "markdown",
   "metadata": {
    "id": "k58pFiJ6Lnxt"
   },
   "source": [
    "\n",
    "### Problema 1:  Raíces de ecuaciones\n",
    "\n"
   ]
  },
  {
   "cell_type": "markdown",
   "metadata": {
    "id": "fPvsmP0FLnxu"
   },
   "source": [
    "La siguiente fórmula nos describe la velocidad ascendente v de un cohete:\n",
    "\n",
    "$$v(t)=uln\\left(\\frac{m}{m-qt}\\right)-gt$$\n",
    "\n",
    "Donde:\n",
    "\n",
    "* u = módulo de la velocidad del combustible expulsado en relación con el cohete\n",
    "\n",
    "* m = masa inicial del cohete (en t=0)\n",
    "\n",
    "* g = módulo aceleración de la gravedad\n",
    "\n",
    "* t = tiempo\n"
   ]
  },
  {
   "cell_type": "markdown",
   "metadata": {
    "id": "mDL0w6tNLnxv"
   },
   "source": [
    "Dado:\n",
    "\n",
    "$$u= 950m/s,\\quad m=2x10^5 kg, \\quad q=3x10^3 kg/s, \\quad g=9.8m/s^2, \\quad t \\in [10,25]$$"
   ]
  },
  {
   "cell_type": "markdown",
   "metadata": {
    "id": "uSRNkZ8jLnxx"
   },
   "source": [
    "a) Defina y utilice 3 métodos para hallar el tiempo que tarda el cohete en alcanzar la velocidad de 500 m/s.\n",
    "\n",
    "b) Resuelva analíticamente y compare resultados con los 3 métodos utilizados.\n",
    "\n",
    "c) Elabore gráficas y detalle su análisis."
   ]
  },
  {
   "cell_type": "code",
   "execution_count": 1,
   "metadata": {
    "id": "me5FqwST4wkJ"
   },
   "outputs": [],
   "source": [
    "## Introduce tu respuesta aquí\n",
    "# Importamos las librerías \n",
    "import numpy as np\n",
    "import matplotlib.pyplot as plt\n"
   ]
  },
  {
   "cell_type": "code",
   "execution_count": 2,
   "metadata": {
    "id": "BY9Jf9nO4IQV"
   },
   "outputs": [],
   "source": [
    "# Definimos los métodos para calcular las raíces.\n",
    "\n",
    "# Método de bisección\n",
    "\n",
    "def biseccion(f, a, b, tol):\n",
    "    \n",
    "    if a > b:\n",
    "        raise ValueError(\"Intervalo mal definido.\")\n",
    "    if tol <= 0:\n",
    "        raise ValueError(\"La cota de error debe ser un número positivo.\")\n",
    "        \n",
    "    x = (a + b) / 2.0\n",
    "    i=1\n",
    "    while True:\n",
    "        if b - a < tol:\n",
    "            i+=1\n",
    "            return(x,i)\n",
    "        # Utilizamos la función signo para evitar errores de precisión\n",
    "        elif np.sign(f(a)) * np.sign(f(x)) > 0: #+*- o +*+\n",
    "            i+=1 #para el contador\n",
    "            a = x\n",
    "        else:\n",
    "            i+=1\n",
    "            b = x\n",
    "        x = (a + b) / 2.0\n",
    "    return(x,i)\n",
    "\n",
    "# Método de Newton\n",
    "\n",
    "def newton(f, df, x_0, maxiter=50, xtol=1.0e-6, ftol=1.0e-6):\n",
    "\n",
    "    x = float(x_0)\n",
    "    for i in range(maxiter):\n",
    "        dx = -f(x) / df(x) # ¡Aquí se puede producir una división por cero!\n",
    "        # También x puede haber quedado fuera del dominio\n",
    "        x = x + dx\n",
    "        if abs(dx / x) < xtol and abs(f(x)) < ftol:\n",
    "            return x\n",
    "# Este método necesita una derivada. \n",
    "\n",
    "def derivative(f,a,method='centrada',h=1e-1):\n",
    "    if method == 'centrada':\n",
    "        return (f(a + h) - f(a - h))/(2*h)\n",
    "    elif method == 'adelante':\n",
    "        return (f(a + h) - f(a))/h\n",
    "    elif method == 'atrás':\n",
    "        return (f(a) - f(a - h))/h \n",
    "    else:\n",
    "        raise ValueError(\"Los métodos pueden ser 'centrada', 'adelante' o 'atrás'.\")\n",
    "\n",
    "# Método de punto fijo\n",
    "\n",
    "def puntofijo(gx,a,tol, itermax = 15):\n",
    "    i = 1 # iteración\n",
    "    b = gx(a)\n",
    "    tramo = abs(b-a)\n",
    "    while(tramo>=tol and i<=itermax ):\n",
    "        a = b\n",
    "        b = gx(a)\n",
    "        tramo = abs(b-a)\n",
    "        i = i + 1\n",
    "    respuesta = b\n",
    "    \n",
    "    # Validar respuesta\n",
    "    if (i>=itermax ):\n",
    "        respuesta = np.nan\n",
    "    return(respuesta)"
   ]
  },
  {
   "cell_type": "code",
   "execution_count": 9,
   "metadata": {
    "id": "q6k3IP-72ns2"
   },
   "outputs": [
    {
     "data": {
      "image/png": "[encoded data removed]",
      "text/plain": [
       "<Figure size 432x288 with 1 Axes>"
      ]
     },
     "metadata": {
      "needs_background": "light"
     },
     "output_type": "display_data"
    }
   ],
   "source": [
    "\n",
    "t = np.linspace(10,25,100) # 100 valores en el intervalo de [10,25]s\n",
    "\n",
    "# Definimos la función \n",
    "\n",
    "def v(t):\n",
    "    u = 950\n",
    "    m = 2e5\n",
    "    q = 3e3\n",
    "    g = 9.8\n",
    "    vel = u*np.log(m/(m - q*t)) - g*t\n",
    "    return vel\n",
    "vel = v(t)\n",
    "plt.plot(t,vel)\n",
    "plt.xlabel('t(s)')\n",
    "plt.ylabel('V(m/s)')\n",
    "plt.legend('Vel')\n",
    "plt.grid()\n",
    "plt.show()\n",
    "\n"
   ]
  },
  {
   "cell_type": "code",
   "execution_count": 11,
   "metadata": {},
   "outputs": [
    {
     "data": {
      "text/plain": [
       "(40.81587186548859, 34)"
      ]
     },
     "execution_count": 11,
     "metadata": {},
     "output_type": "execute_result"
    }
   ],
   "source": [
    "# función auxiliar a evaluar\n",
    "def v_aux(t):\n",
    "    u = 950\n",
    "    m = 2e5\n",
    "    q = 3e3\n",
    "    g = 9.8\n",
    "    vel = u*np.log(m/(m - q*t)) - g*t - 500\n",
    "    return vel\n",
    "\n",
    "tol = 1e-8\n",
    "\n",
    "biseccion(v_aux,10,50,tol)\n"
   ]
  },
  {
   "cell_type": "markdown",
   "metadata": {
    "id": "Yhl8H2QMLnxz"
   },
   "source": [
    "### Problema 2: Interpolación"
   ]
  },
  {
   "cell_type": "markdown",
   "metadata": {
    "id": "1FNRs9IALnxz"
   },
   "source": [
    "Dadas las funciones:\n",
    "\n",
    "1. $f (x) = sin(x^2) $\n",
    "\n",
    "2. $f (x) = e^{sin (x)}$\n",
    "\n",
    "3. $f (x) = \\frac{0.2}{(x-3.2)^2 + 0.04}$\n",
    "\n",
    "a) Estudiar el error en dos métodos de interpolación (de su elección) con 10,20 y 50 datos (uniformemente distribuidos) en el intervalo [0.0, 5.0] y compare los resultados.\n",
    "\n",
    "b) Hallar los órdenes de convergencia, elabore su gráfico con el eje x en base 2 y detallar su análisis.\n",
    "\n",
    "c) Añade una perturbación sinusoidal ($\\delta g(x)=sin(x)$) del orden de $10^{-4},10^{-5}, 10^{-6}$ con distribución homogénea, grafice y detalle su análisis, ¿cuál es el error que generan con respecto a aproximación hecha en \"2.a)\"?"
   ]
  },
  {
   "cell_type": "code",
   "execution_count": 1,
   "metadata": {
    "id": "lwjsiYCQLnx0"
   },
   "outputs": [],
   "source": [
    "## Introduce tu respuesta aquí"
   ]
  },
  {
   "cell_type": "markdown",
   "metadata": {
    "id": "kwTb7Y4yLnx1"
   },
   "source": [
    "### Problema 3: Derivación numérica"
   ]
  },
  {
   "cell_type": "markdown",
   "metadata": {
    "id": "bR-Fz0sJLnx4"
   },
   "source": [
    "En 1928, George Gamow propuso una teoría muy exitosa del decaímiento $\\alpha$, según la cual la partícula $α$ se mueve libremente dentro del núcleo y se emite después de atravesar la barrera potencial entre ella y el núcleo hijo. En otras palabras, la partícula $α$, de carga $Z_2$, cuya energía es $E$, está atrapada en un pozo potencial de radio R por la barrera potencial:\n",
    "\n",
    "$$V(r)=\\frac{Z_1Z_2e^2}{4\\pi\\epsilon_0 r}$$\n",
    "\n",
    "para $r>R$.\n",
    "\n",
    "$Z_1 =Z-2, \\quad Z_2=2$, donde Z es la carga del núcleo de radio R.\n",
    "\n",
    "$r$: es el radio fuera del núcleo ($r>R$ y con A, número de masa) donde:\n",
    "\n",
    "$$R = 1.5\\times 10^{-15}\\,A^{1/3}\\,{\\rm m}=2.0\\times 10^{-15}\\,Z_1^{\\,1/3}\\,{\\rm m}$$"
   ]
  },
  {
   "cell_type": "markdown",
   "metadata": {
    "id": "Qioj4PqrLnx4"
   },
   "source": [
    "a) Calcule la fuerza que experimenta la partícula y analice $\\alpha$ para $r\\in [R,3R]$, utilizando los tres esquemas de diferencias finitas.\n",
    "\n",
    "b) Comparar los esquemas con la solución analítica, calcular los errores, órdenes de convergencia y detallar su análisis."
   ]
  },
  {
   "cell_type": "code",
   "execution_count": 2,
   "metadata": {
    "id": "hZtrQYDDLnx5"
   },
   "outputs": [],
   "source": [
    "# Introduce tu respuesta aquí"
   ]
  },
  {
   "cell_type": "markdown",
   "metadata": {
    "id": "u7Q1CluNLnx5"
   },
   "source": [
    "### Problema 4: Integración numérica"
   ]
  },
  {
   "cell_type": "markdown",
   "metadata": {
    "id": "znPZypPFLnx6"
   },
   "source": [
    "La carga a partir de la densidad radial de carga lineal, $\\lambda$, sobre el área de la sección transversal del cilindro, está definida por:\n",
    "\n",
    "$$q_{total}=\\int_A \\lambda(r)dA(r)$$\n",
    "\n",
    "donde, dA es el diferencial de área de la base del cilindro:\n",
    "\n",
    "$$q_{total}=\\int_A \\lambda(r)(2\\pi r dr)$$\n",
    "\n",
    "Sabemos que la densidad tiene la forma:\n",
    "\n",
    "$$\\lambda(r)=\\lambda_0 \\left(1-\\frac{r^2}{a^2} \\right)$$\n",
    "\n",
    "Y el campo eléctrico:\n",
    "\n",
    "$$\\vec{E}=\\frac{kq_{total}}{d^2}\\hat r$$\n",
    "\n",
    "d: distancia de la superficie al espacio a evaluar el campo eléctrico. ($d\\gt r$)\n",
    "\n",
    "\n",
    "a) Determina la distribución de la carga y campo eléctrico (a R en función al radio utilizando 3 métodos de integración\n",
    "\n",
    "b) Obtener la solución analítica, comparar los errores de distintos métodos y detallar análisis.\n",
    "\n"
   ]
  },
  {
   "cell_type": "code",
   "execution_count": 3,
   "metadata": {
    "id": "1rnyrahlLnx6"
   },
   "outputs": [],
   "source": [
    "# Introduce tu respuesta aquí"
   ]
  },
  {
   "cell_type": "markdown",
   "metadata": {
    "id": "tqRSxSJ8Lnx7"
   },
   "source": [
    "### Problema 5:"
   ]
  },
  {
   "cell_type": "markdown",
   "metadata": {
    "id": "s0mzohtILnx7"
   },
   "source": [
    "Considerar un aro horizontal sin rozamiento de radio R. En este aro enhebro tres objetos con masas idénticas m, y, entre los objetos, tres muelles idénticos, cada uno con una masa constante de fuerza k."
   ]
  },
  {
   "cell_type": "markdown",
   "metadata": {
    "id": "XQb-iAH3Lnx8"
   },
   "source": [
    "<p align=\"center\">\n",
    "  <img src=\"https://habrastorage.org/webt/nz/qz/g4/nzqzg42gjarvpx3yk-fy0qgn20k.png\"  width=55% />\n",
    "</p>\n",
    "\n"
   ]
  },
  {
   "cell_type": "markdown",
   "metadata": {
    "id": "knQbwvVLLnx8"
   },
   "source": [
    "Sabemos que, la energía cinética es:\n",
    "\n",
    "$$T=\\frac{1}{2}mR^2(\\dot{\\phi_1^2}+\\dot{\\phi_2^2}+\\dot{\\phi_3^2})$$\n",
    "\n",
    "y la energía potencial:\n",
    "\n",
    "$$U=\\frac{1}{2}kR^2 [(\\phi_1-\\phi_2)^2+(\\phi_2-\\phi_3)^2+(\\phi_3-\\phi_1)^2]$$"
   ]
  },
  {
   "cell_type": "markdown",
   "metadata": {
    "id": "nF4zTKupLnx9"
   },
   "source": [
    "Resultado: Sistema de EDOs \n",
    "\n",
    "$$m\\frac{d^2\\phi_1}{dt^2}=-k(\\phi_1-\\phi_2)-k(\\phi_1-\\phi_3)$$\n",
    "\n",
    "$$m\\frac{d^2\\phi_2}{dt^2}=-k(\\phi_2-\\phi_3)-k(\\phi_2-\\phi_1)$$\n",
    "\n",
    "$$m\\frac{d^2\\phi_3}{dt^2}=-k(\\phi_3-\\phi_1)-k(\\phi_3-\\phi_2)$$\n"
   ]
  },
  {
   "cell_type": "markdown",
   "metadata": {
    "id": "vTCkMC5dLnx9"
   },
   "source": [
    "a) Encontrar las ecuaciones de movimiento para cada masa usando las ecuaciones de Euler-Lagrange. *(ejemplo en PCP_sesión5.ipynb)*\n",
    "\n",
    "b) Resolver numéricamente el sistema de ecuaciones con los métodos de Euler y RK de orden 4. Para los datos: $\\phi_1=\\phi_2/2,\\quad \\phi_2=\\phi_3/2,\\quad \\phi_3=\\pi/10 \\quad $ y $\\quad \\phi_1'=1,\\quad \\phi_2'=1,\\quad \\phi_3'=1, \\quad R=m=k=1$\n",
    "\n",
    "c) Mostrar los resultados y explicar la dinámica del sistema en base al resultado de la simulación."
   ]
  },
  {
   "cell_type": "code",
   "execution_count": 4,
   "metadata": {
    "id": "uy8bh-UgLnx9"
   },
   "outputs": [],
   "source": [
    "# Introduce tu respuesta aquí"
   ]
  },
  {
   "cell_type": "markdown",
   "metadata": {
    "id": "GVXK6hBPLnx-"
   },
   "source": [
    "Problema 6: (Opcional)\n",
    "\n",
    "De las sesiones brindadas, su propia experiencia y preferencias: Definir un problema a resolver con el enfoque numérico, explique a detalle cada consideración que realice y explique sus conclusiones. \n",
    "\n",
    "El problema puede ser la implementación de un modelo estándar discutido en libros de física (i.e. obtener el gráfico típico de estructura de ionización del átomo de Hidrógeno.), proyecto que esté desarrollando en su formación o complementar cálculos de las sesiones."
   ]
  },
  {
   "cell_type": "code",
   "execution_count": 5,
   "metadata": {
    "id": "Ea_j9NEnLnx-"
   },
   "outputs": [],
   "source": [
    "# Introduce tu respuesta aquí"
   ]
  },
  {
   "cell_type": "markdown",
   "metadata": {
    "id": "OSI2msiKLnx_"
   },
   "source": [
    "**Por último, debe de rellenar la siguiente encuesta de satisfacción:** https://forms.gle/4WU3ovvP7gJMj8GA7 (ingresar con el correo que se inscribió)."
   ]
  },
  {
   "cell_type": "markdown",
   "metadata": {
    "id": "KEcnHqxeLnx_"
   },
   "source": [
    "Enviar sus respuestas a nuestro correo: pythonclubforphysicists@gmail.com\n",
    "\n",
    "**OJO: El correo debe de tener como asunto:**\n",
    "**\"Ejercicios_IIEVFC\"**\n",
    "\n",
    "*Caso contrario su solución puede quedar sin evaluar debido a la gran cantidad de correos.*"
   ]
  },
  {
   "cell_type": "code",
   "execution_count": null,
   "metadata": {
    "id": "ajerfaQP3pWH"
   },
   "outputs": [],
   "source": []
  },
  {
   "cell_type": "markdown",
   "metadata": {
    "id": "6ucKfX5Q-7Ga"
   },
   "source": [
    "\n",
    "## Donaciones\n",
    "<br>\n",
    "<center>\n",
    "Puedes donar una vez en el siguiente enlace (Ko-Fi):\n",
    "\n",
    "<br>\n",
    "    \n",
    "*Click en la imagen.*\n",
    "\n",
    "<a href=\"https://ko-fi.com/rcrdphysics\">\n",
    "<img src=\"https://habrastorage.org/webt/8r/ml/xf/8rmlxfpdzukegpxa62cxlfvgkqe.png\" width=20% />\n",
    "\n",
    "</center>"
   ]
  }
 ],
 "metadata": {
  "colab": {
   "collapsed_sections": [],
   "name": "Copy of Ejercicios_IIEVFC.ipynb",
   "provenance": []
  },
  "kernelspec": {
   "display_name": "Python 3",
   "language": "python",
   "name": "python3"
  },
  "language_info": {
   "codemirror_mode": {
    "name": "ipython",
    "version": 3
   },
   "file_extension": ".py",
   "mimetype": "text/x-python",
   "name": "python",
   "nbconvert_exporter": "python",
   "pygments_lexer": "ipython3",
   "version": "3.9.3"
  }
 },
 "nbformat": 4,
 "nbformat_minor": 1
}
