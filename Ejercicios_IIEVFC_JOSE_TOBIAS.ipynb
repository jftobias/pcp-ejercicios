{
 "cells": [
  {
   "cell_type": "markdown",
   "metadata": {
    "_uuid": "1752ce061957fd1ce93d2e4db9494b7b29da7935",
    "id": "4skdndoa-7GI"
   },
   "source": [
    "<center>\n",
    "\n",
    "\n",
    "<img src=\"https://habrastorage.org/webt/jq/gc/r5/jqgcr5azmatev6zvgufn8xftehy.png\">\n",
    "    \n",
    "#  **II Escuela de Verano en Física Computacional**\n",
    "Autor: [José Fernando Tobías Buelvas.](https://github.com/jftobias/pcp-ejercicios)\\\n",
    "Institución: Universidad del Atlántico (Colombia).\\\n",
    "Correo: jftobiasb@gmail.com\n",
    "\n",
    "    "
   ]
  },
  {
   "cell_type": "markdown",
   "metadata": {
    "_uuid": "9b690f2c8129ad9445c544337375b93246c26668",
    "id": "Vm9O4SUd-7GJ"
   },
   "source": [
    "# <center> Lista de Ejercicios\n",
    "\n"
   ]
  },
  {
   "cell_type": "markdown",
   "metadata": {
    "id": "k58pFiJ6Lnxt"
   },
   "source": [
    "\n",
    "### Problema 1:  Raíces de ecuaciones\n",
    "\n"
   ]
  },
  {
   "cell_type": "markdown",
   "metadata": {
    "id": "fPvsmP0FLnxu"
   },
   "source": [
    "La siguiente fórmula nos describe la velocidad ascendente v de un cohete:\n",
    "\n",
    "$$v(t)=uln\\left(\\frac{m}{m-qt}\\right)-gt$$\n",
    "\n",
    "Donde:\n",
    "\n",
    "* u = módulo de la velocidad del combustible expulsado en relación con el cohete\n",
    "\n",
    "* m = masa inicial del cohete (en t=0)\n",
    "\n",
    "* g = módulo aceleración de la gravedad\n",
    "\n",
    "* t = tiempo\n"
   ]
  },
  {
   "cell_type": "markdown",
   "metadata": {
    "id": "mDL0w6tNLnxv"
   },
   "source": [
    "Dado:\n",
    "\n",
    "$$u= 950m/s,\\quad m=2x10^5 kg, \\quad q=3x10^3 kg/s, \\quad g=9.8m/s^2, \\quad t \\in [10,25]$$"
   ]
  },
  {
   "cell_type": "markdown",
   "metadata": {
    "id": "uSRNkZ8jLnxx"
   },
   "source": [
    "a) Defina y utilice 3 métodos para hallar el tiempo que tarda el cohete en alcanzar la velocidad de 500 m/s.\n",
    "\n",
    "b) Resuelva analíticamente y compare resultados con los 3 métodos utilizados.\n",
    "\n",
    "c) Elabore gráficas y detalle su análisis."
   ]
  },
  {
   "cell_type": "code",
   "execution_count": 1,
   "metadata": {
    "id": "me5FqwST4wkJ"
   },
   "outputs": [],
   "source": [
    "## Introduce tu respuesta aquí\n",
    "# Importamos las librerías \n",
    "import numpy as np\n",
    "import matplotlib.pyplot as plt\n"
   ]
  },
  {
   "cell_type": "code",
   "execution_count": 2,
   "metadata": {
    "id": "BY9Jf9nO4IQV"
   },
   "outputs": [],
   "source": [
    "# Definimos los métodos para calcular las raíces.\n",
    "\n",
    "# Método de bisección\n",
    "\n",
    "def biseccion(f, a, b, tol):\n",
    "    \n",
    "    if a > b:\n",
    "        raise ValueError(\"Intervalo mal definido.\")\n",
    "    if tol <= 0:\n",
    "        raise ValueError(\"La cota de error debe ser un número positivo.\")\n",
    "        \n",
    "    x = (a + b)*0.5 \n",
    "    i=1\n",
    "    while True:\n",
    "        if b - a < tol:\n",
    "            i+=1\n",
    "            return(x,i)\n",
    "        # Utilizamos la función signo para evitar errores de precisión\n",
    "        elif np.sign(f(a)) * np.sign(f(x)) > 0: #+*- o +*+\n",
    "            i+=1 #para el contador\n",
    "            a = x\n",
    "        else:\n",
    "            i+=1\n",
    "            b = x\n",
    "        x = (a + b) / 2.0\n",
    "    return(x,i)\n",
    "\n",
    "# Método de Newton\n",
    "# Este método necesita una derivada.\n",
    "def derivative(f,x,h): # defino la derivada de una función a un paso adelante\n",
    "    return (f(x+h)-f(x))/h\n",
    "def NR(f, x0, h): # defino un solucionador de raíces por método de Newton-Raphson\n",
    "    Xn = x0\n",
    "    Xns = Xn + 10 * h \n",
    "    i = 1\n",
    "    while (abs(Xn - Xns) > h): \n",
    "        Y = f(Xns)                    \n",
    "        Xn = Xns\n",
    "        Xns = Xns - Y / derivative(f, Xn, h)  \n",
    "        i += 1\n",
    "    return Xns, i\n",
    "\n",
    "# Método de la secante\n",
    "def secant(f, x0, x1, eps):\n",
    "    import sys\n",
    "    global x\n",
    "    f_x0 = f(x0)\n",
    "    f_x1 = f(x1)\n",
    "    iteration_counter = 0\n",
    "    while abs(f_x1) > eps and iteration_counter < 50:\n",
    "        try:\n",
    "            denominator = float(f_x1 - f_x0)/(x1 - x0)\n",
    "            x = x1 - float(f_x1)/denominator\n",
    "        except ZeroDivisionError:\n",
    "            print(\"Error! - 0 en el denominador para t = \", x)\n",
    "            sys.exit(1)     # Abort with error\n",
    "        x0 = x1\n",
    "        x1 = x\n",
    "        f_x0 = f_x1\n",
    "        f_x1 = f(x1)\n",
    "        iteration_counter += 1\n",
    "    # Here, either a solution is found, or too many iterations\n",
    "    if abs(f_x1) > eps:\n",
    "        iteration_counter = -1\n",
    "    return x, iteration_counter"
   ]
  },
  {
   "cell_type": "code",
   "execution_count": 3,
   "metadata": {
    "id": "q6k3IP-72ns2"
   },
   "outputs": [
    {
     "data": {
      "image/png": "[encoded data removed]",
      "text/plain": [
       "<Figure size 432x288 with 1 Axes>"
      ]
     },
     "metadata": {
      "needs_background": "light"
     },
     "output_type": "display_data"
    }
   ],
   "source": [
    "t = np.linspace(10,50,100) # 100 valores en el intervalo de [10,25]s\n",
    "\n",
    "# Definimos la función y la derivada\n",
    "u = 950\n",
    "m = 2e5\n",
    "q = 3e3\n",
    "g = 9.8\n",
    "def v(t):\n",
    "    vel = u*np.log(m/(m - q*t)) - g*t\n",
    "    return vel\n",
    "\n",
    "vel = v(t)\n",
    "plt.plot(t,vel,label='Velocidad vs tiempo')\n",
    "plt.hlines(500,10,50,'r',label='500m/s')\n",
    "#plt.vlines(500,10,50,'r',label='500m/s')\n",
    "plt.xlabel('t(s)')\n",
    "plt.ylabel('V(m/s)')\n",
    "plt.legend()\n",
    "plt.grid()\n",
    "plt.show()\n",
    "\n"
   ]
  },
  {
   "cell_type": "markdown",
   "metadata": {},
   "source": [
    "Al observar la gráfica anterior, vemos en en el intervalo de $t\\in[10,25]s$ el cohete no alcanza la rapidez de $500m/s$. Luego, buscamos el tiempo en un intervalo más grande."
   ]
  },
  {
   "cell_type": "code",
   "execution_count": 4,
   "metadata": {},
   "outputs": [
    {
     "name": "stdout",
     "output_type": "stream",
     "text": [
      "(40.81587186548859, 33)\n"
     ]
    }
   ],
   "source": [
    "# función auxiliar a evaluar\n",
    "def v_aux(t):\n",
    "    vel = u*np.log(m/(m - q*t)) - g*t - 500\n",
    "    return vel\n",
    "\n",
    "tol = 1e-8\n",
    "\n",
    "bisec = biseccion(v_aux,30,50,tol)\n",
    "print(bisec)"
   ]
  },
  {
   "cell_type": "code",
   "execution_count": 5,
   "metadata": {},
   "outputs": [
    {
     "name": "stdout",
     "output_type": "stream",
     "text": [
      "(40.81587186850038, 8)\n"
     ]
    }
   ],
   "source": [
    "# Newton-Raphson\n",
    "x_0 = 20\n",
    "nr = NR(v_aux,x_0,tol)\n",
    "print (nr)"
   ]
  },
  {
   "cell_type": "code",
   "execution_count": 6,
   "metadata": {},
   "outputs": [
    {
     "name": "stdout",
     "output_type": "stream",
     "text": [
      "(40.815871868518336, 6)\n"
     ]
    }
   ],
   "source": [
    "# Método de la secante\n",
    "sec = secant(v_aux,30,50,tol)\n",
    "print(sec)"
   ]
  },
  {
   "cell_type": "markdown",
   "metadata": {},
   "source": [
    "Analíticamente, la solución a esta ecuación es la siguiente:\n",
    "$$t = \\frac{u}{g}\\left[W\\left( -\\frac{mg}{qu}e^{-\\frac{500}{u}-\\frac{mg}{qu}}\\right) + \\frac{mg}{qu}\\right]$$\n",
    "donde $W(z)$ es la función de Lambert, la cual tiene la propiedad $$z=W(z)e^{W(z)}$$\n",
    "Usaremos la librería scipy.special.lambertw."
   ]
  },
  {
   "cell_type": "code",
   "execution_count": 7,
   "metadata": {},
   "outputs": [
    {
     "name": "stdout",
     "output_type": "stream",
     "text": [
      "40.81587186850039\n"
     ]
    }
   ],
   "source": [
    "from scipy.special import lambertw\n",
    "\n",
    "c = m*g/(q*u)\n",
    "w = lambertw(-c*np.exp(-(500/u) - c))\n",
    "t_500 = (w + c)*u/g \n",
    "t_500 = t_500.real\n",
    "print(t_500)\n"
   ]
  },
  {
   "cell_type": "markdown",
   "metadata": {},
   "source": [
    "Ahora, veamos los errores de los métodos.\n",
    "Tomando como referencia el resultado anterior, calculemos el error absoluto de cada uno de los métodos:\n",
    "$$Error = |Valor_{real} - Valor_{Método}|$$"
   ]
  },
  {
   "cell_type": "code",
   "execution_count": 8,
   "metadata": {},
   "outputs": [
    {
     "name": "stdout",
     "output_type": "stream",
     "text": [
      "Los errores absolutos de los métodos son:\n",
      "\n",
      "Bisección:  3.0117988103484095e-09\n",
      "Newton-Raphson:  7.105427357601002e-15\n",
      "Secante:  1.794830950530013e-11\n"
     ]
    }
   ],
   "source": [
    "error_biseccion = np.abs(bisec[0] - t_500)\n",
    "error_Newton = np.abs(nr[0] - t_500)\n",
    "error_secante = np.abs(sec[0] - t_500)\n",
    "\n",
    "print('Los errores absolutos de los métodos son:')\n",
    "print('')\n",
    "print('Bisección: ',error_biseccion)\n",
    "print('Newton-Raphson: ',error_Newton)\n",
    "print('Secante: ',error_secante)"
   ]
  },
  {
   "cell_type": "markdown",
   "metadata": {},
   "source": [
    "### Problema 1(actualizado): Raíces de ecuaciones"
   ]
  },
  {
   "cell_type": "markdown",
   "metadata": {},
   "source": [
    "<p align=\"center\">\n",
    "  <img src=\"https://habrastorage.org/webt/x6/5e/j3/x65ej3pwjn51joueohr3gckbfyy.png\"  width=50% />\n",
    "</p>"
   ]
  },
  {
   "cell_type": "markdown",
   "metadata": {},
   "source": [
    "Considere la ecuación de movimiento de Kepler:\n",
    "\n",
    "$$M=E-e sen(E)$$\n",
    " \n",
    "Donde:\n",
    "\n",
    "* $M$: anomalía media.\n",
    "* $E$: anomalía excéntrica de una órbita elíptica .\n",
    "* $e$: Excentricidad. \n",
    "\n",
    "Para encontrar $E$, necesitamos resolver la ecuación no lineal:\n",
    "\n",
    "$$f(E) = M + e sen E − E = 0$$\n",
    "\n",
    "Dado $e = 0.0167$ (excentricidad de la Tierra), $a=1$UA (Distancia de la tierra al sol) y $M = 1$ (en radianes)\n",
    "\n",
    "**a)** Defina y utilice 3 métodos para calcular $E$ elegir aproximaciones iniciales apropiadas o un intervalo que contenga la raíz (requerido para el método de bisección), grafique la función $f (E)$ y luego determine gráficamente dónde cruza el eje $E$.\n",
    "\n",
    "**b)** Calcule E, (haciendo $f(E)=0$ para distintos valores de $M$) , donde $t_0=0, t=100$ días (P es constante), elija esos valores de $E$, grafique $E(t), x(t), y(t), y(x)$, detalle su análisis.\n",
    "\n",
    "Sabiendo que:\n",
    "\n",
    "$$x=a.cos(E-e)$$\n",
    "\n",
    "$$y=a\\sqrt{1-e^2}sen(E)$$\n",
    "\n",
    "$$M=\\frac{2\\pi (t-t_0)}{P}$$\n",
    "\n",
    "donde:\n",
    "\n",
    "t: tiempo en días\n",
    "\n",
    "P: Periodo\n",
    "\n",
    "Conocemos de la **tercera ley de Kepler**:\n",
    "\n",
    "$$P=\\frac{2\\pi a^{3/2}}{(G(M_\\star+m))^{1/2}}$$\n",
    "\n",
    "$a,G,M_\\star,m$ son la distancia de la tierra al sol, la constante de gravitación universal, la masa del sol y la masa de la tierra\n"
   ]
  },
  {
   "cell_type": "markdown",
   "metadata": {},
   "source": [
    "### $\\underline{Solución}$:\n",
    "Como ya se han definido los métodos para cálculo de raíces. Graficaremos la función y luego definimos la función para encontrar el valor de $E$."
   ]
  },
  {
   "cell_type": "code",
   "execution_count": 20,
   "metadata": {},
   "outputs": [],
   "source": [
    "m_s = 1.989e30   # masa del sol en kg\n",
    "G = 6.67e-11 # constante de gravitación universal\n",
    "m_t = 5.972e24   # masa de la tierra\n",
    "a = 1.496e11     # unidad astronómicas expresada en metros\n",
    "e = 0.0167       # excentricidad\n",
    "M = 1            # anomalía media en radianes\n",
    "\n",
    "# definimos la función para evaluar\n",
    "def f(E):\n",
    "    f = M + e * np.sin(E) - E\n",
    "    return f"
   ]
  },
  {
   "cell_type": "code",
   "execution_count": 21,
   "metadata": {},
   "outputs": [],
   "source": [
    "b1 = biseccion(f, 0,2, tol)\n",
    "nr1 = NR(f, 1, tol)\n",
    "s1 = secant(f, 0,2, tol)"
   ]
  },
  {
   "cell_type": "code",
   "execution_count": 22,
   "metadata": {},
   "outputs": [
    {
     "data": {
      "image/png": "[encoded data removed]",
      "text/plain": [
       "<Figure size 432x288 with 1 Axes>"
      ]
     },
     "metadata": {
      "needs_background": "light"
     },
     "output_type": "display_data"
    }
   ],
   "source": [
    "E = np.linspace(0, 2*np.pi, 100)\n",
    "y = f(E)\n",
    "plt.plot(E, y,'b-', label='f(E) vs E')\n",
    "plt.grid()\n",
    "plt.axhline(0, c='r', ls='--')\n",
    "plt.axvline(s1[0], c='r', ls='--')\n",
    "plt.xlabel('E')\n",
    "plt.ylabel('f(E)')\n",
    "plt.legend()\n",
    "plt.show()"
   ]
  },
  {
   "cell_type": "markdown",
   "metadata": {},
   "source": [
    "#### Inciso b)"
   ]
  },
  {
   "cell_type": "code",
   "execution_count": 29,
   "metadata": {},
   "outputs": [],
   "source": [
    "numP = 2 * np.pi * a**(1.5)\n",
    "denP = np.sqrt(G*(m_s + m_t))\n",
    "P = numP/denP\n",
    "def Mt(t):\n",
    "    m = 2*np.pi *t/P\n",
    "    return m\n",
    "dia = 86400# segundos\n",
    "t = dia * np.linspace(0, 100, 101)\n",
    "M_list = Mt(t)"
   ]
  },
  {
   "cell_type": "code",
   "execution_count": 30,
   "metadata": {},
   "outputs": [
    {
     "data": {
      "text/plain": [
       "365.3276604484075"
      ]
     },
     "execution_count": 30,
     "metadata": {},
     "output_type": "execute_result"
    }
   ],
   "source": [
    "P/dia"
   ]
  },
  {
   "cell_type": "code",
   "execution_count": 70,
   "metadata": {},
   "outputs": [],
   "source": [
    "E = []\n",
    "x = []\n",
    "y = []\n",
    "for i in M_list:\n",
    "    M = i\n",
    "    nr2 = NR(f, 1,tol)[0]\n",
    "    E.append(nr2)\n",
    "    x.append( a*np.cos(nr2 - e))  \n",
    "    y.append( a*np.sqrt(1 - e**2) * np.sin(nr2))\n",
    "E = np.array(E)\n",
    "x = np.array(x)\n",
    "y = np.array(y)\n",
    "\n",
    "# Para un año completo\n",
    "\n",
    "t_año = 365.33 * np.linspace(0, 86400, 101)\n",
    "M_año = Mt(t_año)\n",
    "x2 = []\n",
    "y2 = []\n",
    "for i in M_año:\n",
    "    M = i\n",
    "    nr = NR(f, 1,tol)[0]\n",
    "    x2.append( a*np.cos(nr - e))  \n",
    "    y2.append( a*np.sqrt(1 - e**2) * np.sin(nr))\n",
    "x2 = np.array(x2)\n",
    "y2 = np.array(y2)\n",
    "\n"
   ]
  },
  {
   "cell_type": "code",
   "execution_count": 91,
   "metadata": {},
   "outputs": [
    {
     "data": {
      "image/png": "[encoded data removed]",
      "text/plain": [
       "<Figure size 432x288 with 1 Axes>"
      ]
     },
     "metadata": {
      "needs_background": "light"
     },
     "output_type": "display_data"
    },
    {
     "data": {
      "image/png": "[encoded data removed]",
      "text/plain": [
       "<Figure size 432x288 with 1 Axes>"
      ]
     },
     "metadata": {
      "needs_background": "light"
     },
     "output_type": "display_data"
    }
   ],
   "source": [
    "t2 = np.linspace(0,100,101)\n",
    "\n",
    "\n",
    "plt.plot(t2, E, label='E(t) vs t')\n",
    "plt.title('Anomalía excéntrica en función del tiempo')\n",
    "plt.grid()\n",
    "plt.xlabel('t')\n",
    "plt.ylabel('E(t)')\n",
    "plt.legend()\n",
    "plt.show()\n",
    "#\n",
    "plt.title('Posiciones en función del tiempo')\n",
    "plt.plot(t2, x, label='x(t) vs t')\n",
    "plt.plot(t2, y, label='y(t) vs t')\n",
    "plt.grid()\n",
    "plt.xlabel('t(Dias)')\n",
    "plt.legend()\n",
    "plt.show()"
   ]
  },
  {
   "cell_type": "code",
   "execution_count": 94,
   "metadata": {},
   "outputs": [
    {
     "data": {
      "image/png": "[encoded data removed]",
      "text/plain": [
       "<Figure size 432x288 with 1 Axes>"
      ]
     },
     "metadata": {
      "needs_background": "light"
     },
     "output_type": "display_data"
    }
   ],
   "source": [
    "# Miremos la trayectoria\n",
    "\n",
    "plt.plot(x2/a,y2/a,'k--')  \n",
    "plt.title('Órbita terrestre')\n",
    "plt.plot(x/a, y/a,'r', label='Recorrido en 100 días')\n",
    "plt.grid()\n",
    "plt.xlabel('x')\n",
    "plt.ylabel('y')\n",
    "plt.legend()\n",
    "plt.show()"
   ]
  },
  {
   "cell_type": "markdown",
   "metadata": {
    "id": "Yhl8H2QMLnxz"
   },
   "source": [
    "### Problema 2: Interpolación"
   ]
  },
  {
   "cell_type": "markdown",
   "metadata": {
    "id": "1FNRs9IALnxz"
   },
   "source": [
    "Dadas las funciones:\n",
    "\n",
    "1. $f (x) = sin(x^2) $\n",
    "\n",
    "2. $f (x) = e^{sin (x)}$\n",
    "\n",
    "3. $f (x) = \\frac{0.2}{(x-3.2)^2 + 0.04}$\n",
    "\n",
    "a) Estudiar el error en dos métodos de interpolación (de su elección) con 10,20 y 50 datos (uniformemente distribuidos) en el intervalo [0.0, 5.0] y compare los resultados.\n",
    "\n",
    "b) Hallar los órdenes de convergencia, elabore su gráfico con el eje x en base 2 y detallar su análisis.\n",
    "\n",
    "c) Añade una perturbación sinusoidal ($\\delta g(x)=sin(x)$) del orden de $10^{-4},10^{-5}, 10^{-6}$ con distribución homogénea, grafice y detalle su análisis, ¿cuál es el error que generan con respecto a aproximación hecha en \"2.a)\"?"
   ]
  },
  {
   "cell_type": "code",
   "execution_count": null,
   "metadata": {
    "id": "lwjsiYCQLnx0"
   },
   "outputs": [],
   "source": [
    "## Introduce tu respuesta aquí"
   ]
  },
  {
   "cell_type": "markdown",
   "metadata": {
    "id": "kwTb7Y4yLnx1"
   },
   "source": [
    "### Problema 3: Derivación numérica"
   ]
  },
  {
   "cell_type": "markdown",
   "metadata": {
    "id": "bR-Fz0sJLnx4"
   },
   "source": [
    "En 1928, George Gamow propuso una teoría muy exitosa del decaímiento $\\alpha$, según la cual la partícula $α$ se mueve libremente dentro del núcleo y se emite después de atravesar la barrera potencial entre ella y el núcleo hijo. En otras palabras, la partícula $α$, de carga $Z_2$, cuya energía es $E$, está atrapada en un pozo potencial de radio R por la barrera potencial:\n",
    "\n",
    "$$V(r)=\\frac{Z_1Z_2e^2}{4\\pi\\epsilon_0 r}$$\n",
    "\n",
    "para $r>R$.\n",
    "\n",
    "$Z_1 =Z-2, \\quad Z_2=2$, donde Z es la carga del núcleo de radio R.\n",
    "\n",
    "$r$: es el radio fuera del núcleo ($r>R$ y con A, número de masa) donde:\n",
    "\n",
    "$$R = 1.5\\times 10^{-15}\\,A^{1/3}\\,{\\rm m}=2.0\\times 10^{-15}\\,Z_1^{\\,1/3}\\,{\\rm m}$$"
   ]
  },
  {
   "cell_type": "markdown",
   "metadata": {
    "id": "Qioj4PqrLnx4"
   },
   "source": [
    "a) Calcule la fuerza que experimenta la partícula y analice $\\alpha$ para $r\\in [R,3R]$, utilizando los tres esquemas de diferencias finitas.\n",
    "\n",
    "b) Comparar los esquemas con la solución analítica, calcular los errores, órdenes de convergencia y detallar su análisis."
   ]
  },
  {
   "cell_type": "code",
   "execution_count": null,
   "metadata": {
    "id": "hZtrQYDDLnx5"
   },
   "outputs": [],
   "source": [
    "# Introduce tu respuesta aquí"
   ]
  },
  {
   "cell_type": "markdown",
   "metadata": {
    "id": "u7Q1CluNLnx5"
   },
   "source": [
    "### Problema 4: Integración numérica"
   ]
  },
  {
   "cell_type": "markdown",
   "metadata": {
    "id": "znPZypPFLnx6"
   },
   "source": [
    "La carga a partir de la densidad radial de carga lineal, $\\lambda$, sobre el área de la sección transversal del cilindro, está definida por:\n",
    "\n",
    "$$q_{total}=\\int_A \\lambda(r)dA(r)$$\n",
    "\n",
    "donde, dA es el diferencial de área de la base del cilindro:\n",
    "\n",
    "$$q_{total}=\\int_A \\lambda(r)(2\\pi r dr)$$\n",
    "\n",
    "Sabemos que la densidad tiene la forma:\n",
    "\n",
    "$$\\lambda(r)=\\lambda_0 \\left(1-\\frac{r^2}{a^2} \\right)$$\n",
    "\n",
    "Y el campo eléctrico:\n",
    "\n",
    "$$\\vec{E}=\\frac{kq_{total}}{d^2}\\hat r$$\n",
    "\n",
    "d: distancia de la superficie al espacio a evaluar el campo eléctrico. ($d\\gt r$)\n",
    "\n",
    "\n",
    "a) Determina la distribución de la carga y campo eléctrico (a R en función al radio utilizando 3 métodos de integración\n",
    "\n",
    "b) Obtener la solución analítica, comparar los errores de distintos métodos y detallar análisis.\n",
    "\n"
   ]
  },
  {
   "cell_type": "code",
   "execution_count": null,
   "metadata": {
    "id": "1rnyrahlLnx6"
   },
   "outputs": [],
   "source": [
    "# Introduce tu respuesta aquí"
   ]
  },
  {
   "cell_type": "markdown",
   "metadata": {
    "id": "tqRSxSJ8Lnx7"
   },
   "source": [
    "### Problema 5:"
   ]
  },
  {
   "cell_type": "markdown",
   "metadata": {
    "id": "s0mzohtILnx7"
   },
   "source": [
    "Considerar un aro horizontal sin rozamiento de radio R. En este aro enhebro tres objetos con masas idénticas m, y, entre los objetos, tres muelles idénticos, cada uno con una masa constante de fuerza k."
   ]
  },
  {
   "cell_type": "markdown",
   "metadata": {
    "id": "XQb-iAH3Lnx8"
   },
   "source": [
    "<p align=\"center\">\n",
    "  <img src=\"https://habrastorage.org/webt/nz/qz/g4/nzqzg42gjarvpx3yk-fy0qgn20k.png\"  width=55% />\n",
    "</p>\n",
    "\n"
   ]
  },
  {
   "cell_type": "markdown",
   "metadata": {
    "id": "knQbwvVLLnx8"
   },
   "source": [
    "Sabemos que, la energía cinética es:\n",
    "\n",
    "$$T=\\frac{1}{2}mR^2(\\dot{\\phi_1^2}+\\dot{\\phi_2^2}+\\dot{\\phi_3^2})$$\n",
    "\n",
    "y la energía potencial:\n",
    "\n",
    "$$U=\\frac{1}{2}kR^2 [(\\phi_1-\\phi_2)^2+(\\phi_2-\\phi_3)^2+(\\phi_3-\\phi_1)^2]$$"
   ]
  },
  {
   "cell_type": "markdown",
   "metadata": {
    "id": "nF4zTKupLnx9"
   },
   "source": [
    "Resultado: Sistema de EDOs \n",
    "\n",
    "$$m\\frac{d^2\\phi_1}{dt^2}=-k(\\phi_1-\\phi_2)-k(\\phi_1-\\phi_3)$$\n",
    "\n",
    "$$m\\frac{d^2\\phi_2}{dt^2}=-k(\\phi_2-\\phi_3)-k(\\phi_2-\\phi_1)$$\n",
    "\n",
    "$$m\\frac{d^2\\phi_3}{dt^2}=-k(\\phi_3-\\phi_1)-k(\\phi_3-\\phi_2)$$\n"
   ]
  },
  {
   "cell_type": "markdown",
   "metadata": {
    "id": "vTCkMC5dLnx9"
   },
   "source": [
    "a) Encontrar las ecuaciones de movimiento para cada masa usando las ecuaciones de Euler-Lagrange. *(ejemplo en PCP_sesión5.ipynb)*\n",
    "\n",
    "b) Resolver numéricamente el sistema de ecuaciones con los métodos de Euler y RK de orden 4. Para los datos: $\\phi_1=\\phi_2/2,\\quad \\phi_2=\\phi_3/2,\\quad \\phi_3=\\pi/10 \\quad $ y $\\quad \\phi_1'=1,\\quad \\phi_2'=1,\\quad \\phi_3'=1, \\quad R=m=k=1$\n",
    "\n",
    "c) Mostrar los resultados y explicar la dinámica del sistema en base al resultado de la simulación."
   ]
  },
  {
   "cell_type": "code",
   "execution_count": null,
   "metadata": {
    "id": "uy8bh-UgLnx9"
   },
   "outputs": [],
   "source": [
    "# Introduce tu respuesta aquí"
   ]
  },
  {
   "cell_type": "markdown",
   "metadata": {
    "id": "GVXK6hBPLnx-"
   },
   "source": [
    "Problema 6: (Opcional)\n",
    "\n",
    "De las sesiones brindadas, su propia experiencia y preferencias: Definir un problema a resolver con el enfoque numérico, explique a detalle cada consideración que realice y explique sus conclusiones. \n",
    "\n",
    "El problema puede ser la implementación de un modelo estándar discutido en libros de física (i.e. obtener el gráfico típico de estructura de ionización del átomo de Hidrógeno.), proyecto que esté desarrollando en su formación o complementar cálculos de las sesiones."
   ]
  },
  {
   "cell_type": "code",
   "execution_count": null,
   "metadata": {
    "id": "Ea_j9NEnLnx-"
   },
   "outputs": [],
   "source": [
    "# Introduce tu respuesta aquí"
   ]
  },
  {
   "cell_type": "markdown",
   "metadata": {
    "id": "OSI2msiKLnx_"
   },
   "source": [
    "**Por último, debe de rellenar la siguiente encuesta de satisfacción:** https://forms.gle/4WU3ovvP7gJMj8GA7 (ingresar con el correo que se inscribió)."
   ]
  },
  {
   "cell_type": "markdown",
   "metadata": {
    "id": "KEcnHqxeLnx_"
   },
   "source": [
    "Enviar sus respuestas a nuestro correo: pythonclubforphysicists@gmail.com\n",
    "\n",
    "**OJO: El correo debe de tener como asunto:**\n",
    "**\"Ejercicios_IIEVFC\"**\n",
    "\n",
    "*Caso contrario su solución puede quedar sin evaluar debido a la gran cantidad de correos.*"
   ]
  },
  {
   "cell_type": "code",
   "execution_count": null,
   "metadata": {
    "id": "ajerfaQP3pWH"
   },
   "outputs": [],
   "source": []
  },
  {
   "cell_type": "markdown",
   "metadata": {
    "id": "6ucKfX5Q-7Ga"
   },
   "source": [
    "\n",
    "## Donaciones\n",
    "<br>\n",
    "<center>\n",
    "Puedes donar una vez en el siguiente enlace (Ko-Fi):\n",
    "\n",
    "<br>\n",
    "    \n",
    "*Click en la imagen.*\n",
    "\n",
    "<a href=\"https://ko-fi.com/rcrdphysics\">\n",
    "<img src=\"https://habrastorage.org/webt/8r/ml/xf/8rmlxfpdzukegpxa62cxlfvgkqe.png\" width=20% />\n",
    "\n",
    "</center>"
   ]
  }
 ],
 "metadata": {
  "colab": {
   "collapsed_sections": [],
   "name": "Copy of Ejercicios_IIEVFC.ipynb",
   "provenance": []
  },
  "kernelspec": {
   "display_name": "Python 3",
   "language": "python",
   "name": "python3"
  },
  "language_info": {
   "codemirror_mode": {
    "name": "ipython",
    "version": 3
   },
   "file_extension": ".py",
   "mimetype": "text/x-python",
   "name": "python",
   "nbconvert_exporter": "python",
   "pygments_lexer": "ipython3",
   "version": "3.8.5"
  }
 },
 "nbformat": 4,
 "nbformat_minor": 4
}
